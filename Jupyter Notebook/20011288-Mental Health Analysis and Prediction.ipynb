{
 "cells": [
  {
   "cell_type": "markdown",
   "id": "36e7f369",
   "metadata": {},
   "source": [
    "# Data Analysis Using Python Pandas, Numpy, Seaborn and Matplot Library."
   ]
  },
  {
   "attachments": {},
   "cell_type": "markdown",
   "id": "c4a9edb4",
   "metadata": {},
   "source": [
    "This notebook is for the data analysis and machine learning model that has been done to the OSMI dataset which is a survey for the people who work in Tech industry to understand about the effects of mental health. The dataset has been manually cleaned first to make it more workable so the dataset has been filtered and renamed. "
   ]
  },
  {
   "cell_type": "markdown",
   "id": "4f9b9511",
   "metadata": {},
   "source": [
    "The first thing I have done here is to import all the python libraries. Pandas is a Python library that provides data structures for working with structured data. NumPy (Numerical Python) offers support for sizable, multi-dimensional arrays and matrices, as well as a vast array of mathematical operations that may be performed on these arrays. And matplot helps in visualising the data that we have in the forms of graph. "
   ]
  },
  {
   "cell_type": "code",
   "execution_count": 1,
   "id": "a638cf5a",
   "metadata": {},
   "outputs": [],
   "source": [
    "import pandas as pd\n",
    "import numpy as np\n",
    "import seaborn as sns\n",
    "import matplotlib.pyplot as plt\n",
    "%matplotlib inline\n",
    "import warnings\n",
    "warnings.filterwarnings(\"ignore\")\n"
   ]
  },
  {
   "cell_type": "markdown",
   "id": "4d860215",
   "metadata": {},
   "source": [
    "I have imported the dataset here. After this I am going to make this data more clear and readable by using the libraries that has been imported. The next step also shows the information of the dataset"
   ]
  },
  {
   "cell_type": "code",
   "execution_count": 2,
   "id": "5a99c2f1",
   "metadata": {},
   "outputs": [
    {
     "data": {
      "text/html": [
       "<div>\n",
       "<style scoped>\n",
       "    .dataframe tbody tr th:only-of-type {\n",
       "        vertical-align: middle;\n",
       "    }\n",
       "\n",
       "    .dataframe tbody tr th {\n",
       "        vertical-align: top;\n",
       "    }\n",
       "\n",
       "    .dataframe thead th {\n",
       "        text-align: right;\n",
       "    }\n",
       "</style>\n",
       "<table border=\"1\" class=\"dataframe\">\n",
       "  <thead>\n",
       "    <tr style=\"text-align: right;\">\n",
       "      <th></th>\n",
       "      <th>Age</th>\n",
       "      <th>Gender</th>\n",
       "      <th>Country</th>\n",
       "      <th>state</th>\n",
       "      <th>self_employed</th>\n",
       "      <th>family_history</th>\n",
       "      <th>treatment</th>\n",
       "      <th>work_interfere</th>\n",
       "      <th>remote_work</th>\n",
       "      <th>tech_company</th>\n",
       "      <th>...</th>\n",
       "      <th>leave</th>\n",
       "      <th>mental_health_consequence</th>\n",
       "      <th>phys_health_consequence</th>\n",
       "      <th>coworkers</th>\n",
       "      <th>supervisor</th>\n",
       "      <th>mental_health_interview</th>\n",
       "      <th>phys_health_interview</th>\n",
       "      <th>mental_vs_physical</th>\n",
       "      <th>obs_consequence</th>\n",
       "      <th>comments</th>\n",
       "    </tr>\n",
       "  </thead>\n",
       "  <tbody>\n",
       "    <tr>\n",
       "      <th>0</th>\n",
       "      <td>37</td>\n",
       "      <td>Female</td>\n",
       "      <td>United States</td>\n",
       "      <td>IL</td>\n",
       "      <td>NaN</td>\n",
       "      <td>No</td>\n",
       "      <td>Yes</td>\n",
       "      <td>Often</td>\n",
       "      <td>No</td>\n",
       "      <td>Yes</td>\n",
       "      <td>...</td>\n",
       "      <td>Somewhat easy</td>\n",
       "      <td>No</td>\n",
       "      <td>No</td>\n",
       "      <td>Some of them</td>\n",
       "      <td>Yes</td>\n",
       "      <td>No</td>\n",
       "      <td>Maybe</td>\n",
       "      <td>Yes</td>\n",
       "      <td>No</td>\n",
       "      <td>NaN</td>\n",
       "    </tr>\n",
       "    <tr>\n",
       "      <th>1</th>\n",
       "      <td>44</td>\n",
       "      <td>M</td>\n",
       "      <td>United States</td>\n",
       "      <td>IN</td>\n",
       "      <td>NaN</td>\n",
       "      <td>No</td>\n",
       "      <td>No</td>\n",
       "      <td>Rarely</td>\n",
       "      <td>No</td>\n",
       "      <td>No</td>\n",
       "      <td>...</td>\n",
       "      <td>Don't know</td>\n",
       "      <td>Maybe</td>\n",
       "      <td>No</td>\n",
       "      <td>No</td>\n",
       "      <td>No</td>\n",
       "      <td>No</td>\n",
       "      <td>No</td>\n",
       "      <td>Don't know</td>\n",
       "      <td>No</td>\n",
       "      <td>NaN</td>\n",
       "    </tr>\n",
       "    <tr>\n",
       "      <th>2</th>\n",
       "      <td>32</td>\n",
       "      <td>Male</td>\n",
       "      <td>Canada</td>\n",
       "      <td>NaN</td>\n",
       "      <td>NaN</td>\n",
       "      <td>No</td>\n",
       "      <td>No</td>\n",
       "      <td>Rarely</td>\n",
       "      <td>No</td>\n",
       "      <td>Yes</td>\n",
       "      <td>...</td>\n",
       "      <td>Somewhat difficult</td>\n",
       "      <td>No</td>\n",
       "      <td>No</td>\n",
       "      <td>Yes</td>\n",
       "      <td>Yes</td>\n",
       "      <td>Yes</td>\n",
       "      <td>Yes</td>\n",
       "      <td>No</td>\n",
       "      <td>No</td>\n",
       "      <td>NaN</td>\n",
       "    </tr>\n",
       "    <tr>\n",
       "      <th>3</th>\n",
       "      <td>31</td>\n",
       "      <td>Male</td>\n",
       "      <td>United Kingdom</td>\n",
       "      <td>NaN</td>\n",
       "      <td>NaN</td>\n",
       "      <td>Yes</td>\n",
       "      <td>Yes</td>\n",
       "      <td>Often</td>\n",
       "      <td>No</td>\n",
       "      <td>Yes</td>\n",
       "      <td>...</td>\n",
       "      <td>Somewhat difficult</td>\n",
       "      <td>Yes</td>\n",
       "      <td>Yes</td>\n",
       "      <td>Some of them</td>\n",
       "      <td>No</td>\n",
       "      <td>Maybe</td>\n",
       "      <td>Maybe</td>\n",
       "      <td>No</td>\n",
       "      <td>Yes</td>\n",
       "      <td>NaN</td>\n",
       "    </tr>\n",
       "    <tr>\n",
       "      <th>4</th>\n",
       "      <td>31</td>\n",
       "      <td>Male</td>\n",
       "      <td>United States</td>\n",
       "      <td>TX</td>\n",
       "      <td>NaN</td>\n",
       "      <td>No</td>\n",
       "      <td>No</td>\n",
       "      <td>Never</td>\n",
       "      <td>Yes</td>\n",
       "      <td>Yes</td>\n",
       "      <td>...</td>\n",
       "      <td>Don't know</td>\n",
       "      <td>No</td>\n",
       "      <td>No</td>\n",
       "      <td>Some of them</td>\n",
       "      <td>Yes</td>\n",
       "      <td>Yes</td>\n",
       "      <td>Yes</td>\n",
       "      <td>Don't know</td>\n",
       "      <td>No</td>\n",
       "      <td>NaN</td>\n",
       "    </tr>\n",
       "    <tr>\n",
       "      <th>...</th>\n",
       "      <td>...</td>\n",
       "      <td>...</td>\n",
       "      <td>...</td>\n",
       "      <td>...</td>\n",
       "      <td>...</td>\n",
       "      <td>...</td>\n",
       "      <td>...</td>\n",
       "      <td>...</td>\n",
       "      <td>...</td>\n",
       "      <td>...</td>\n",
       "      <td>...</td>\n",
       "      <td>...</td>\n",
       "      <td>...</td>\n",
       "      <td>...</td>\n",
       "      <td>...</td>\n",
       "      <td>...</td>\n",
       "      <td>...</td>\n",
       "      <td>...</td>\n",
       "      <td>...</td>\n",
       "      <td>...</td>\n",
       "      <td>...</td>\n",
       "    </tr>\n",
       "    <tr>\n",
       "      <th>1254</th>\n",
       "      <td>26</td>\n",
       "      <td>male</td>\n",
       "      <td>United Kingdom</td>\n",
       "      <td>NaN</td>\n",
       "      <td>No</td>\n",
       "      <td>No</td>\n",
       "      <td>Yes</td>\n",
       "      <td>NaN</td>\n",
       "      <td>No</td>\n",
       "      <td>Yes</td>\n",
       "      <td>...</td>\n",
       "      <td>Somewhat easy</td>\n",
       "      <td>No</td>\n",
       "      <td>No</td>\n",
       "      <td>Some of them</td>\n",
       "      <td>Some of them</td>\n",
       "      <td>No</td>\n",
       "      <td>No</td>\n",
       "      <td>Don't know</td>\n",
       "      <td>No</td>\n",
       "      <td>NaN</td>\n",
       "    </tr>\n",
       "    <tr>\n",
       "      <th>1255</th>\n",
       "      <td>32</td>\n",
       "      <td>Male</td>\n",
       "      <td>United States</td>\n",
       "      <td>IL</td>\n",
       "      <td>No</td>\n",
       "      <td>Yes</td>\n",
       "      <td>Yes</td>\n",
       "      <td>Often</td>\n",
       "      <td>Yes</td>\n",
       "      <td>Yes</td>\n",
       "      <td>...</td>\n",
       "      <td>Somewhat difficult</td>\n",
       "      <td>No</td>\n",
       "      <td>No</td>\n",
       "      <td>Some of them</td>\n",
       "      <td>Yes</td>\n",
       "      <td>No</td>\n",
       "      <td>No</td>\n",
       "      <td>Yes</td>\n",
       "      <td>No</td>\n",
       "      <td>NaN</td>\n",
       "    </tr>\n",
       "    <tr>\n",
       "      <th>1256</th>\n",
       "      <td>34</td>\n",
       "      <td>male</td>\n",
       "      <td>United States</td>\n",
       "      <td>CA</td>\n",
       "      <td>No</td>\n",
       "      <td>Yes</td>\n",
       "      <td>Yes</td>\n",
       "      <td>Sometimes</td>\n",
       "      <td>No</td>\n",
       "      <td>Yes</td>\n",
       "      <td>...</td>\n",
       "      <td>Somewhat difficult</td>\n",
       "      <td>Yes</td>\n",
       "      <td>Yes</td>\n",
       "      <td>No</td>\n",
       "      <td>No</td>\n",
       "      <td>No</td>\n",
       "      <td>No</td>\n",
       "      <td>No</td>\n",
       "      <td>No</td>\n",
       "      <td>NaN</td>\n",
       "    </tr>\n",
       "    <tr>\n",
       "      <th>1257</th>\n",
       "      <td>46</td>\n",
       "      <td>f</td>\n",
       "      <td>United States</td>\n",
       "      <td>NC</td>\n",
       "      <td>No</td>\n",
       "      <td>No</td>\n",
       "      <td>No</td>\n",
       "      <td>NaN</td>\n",
       "      <td>Yes</td>\n",
       "      <td>Yes</td>\n",
       "      <td>...</td>\n",
       "      <td>Don't know</td>\n",
       "      <td>Yes</td>\n",
       "      <td>No</td>\n",
       "      <td>No</td>\n",
       "      <td>No</td>\n",
       "      <td>No</td>\n",
       "      <td>No</td>\n",
       "      <td>No</td>\n",
       "      <td>No</td>\n",
       "      <td>NaN</td>\n",
       "    </tr>\n",
       "    <tr>\n",
       "      <th>1258</th>\n",
       "      <td>25</td>\n",
       "      <td>Male</td>\n",
       "      <td>United States</td>\n",
       "      <td>IL</td>\n",
       "      <td>No</td>\n",
       "      <td>Yes</td>\n",
       "      <td>Yes</td>\n",
       "      <td>Sometimes</td>\n",
       "      <td>No</td>\n",
       "      <td>No</td>\n",
       "      <td>...</td>\n",
       "      <td>Don't know</td>\n",
       "      <td>Maybe</td>\n",
       "      <td>No</td>\n",
       "      <td>Some of them</td>\n",
       "      <td>No</td>\n",
       "      <td>No</td>\n",
       "      <td>No</td>\n",
       "      <td>Don't know</td>\n",
       "      <td>No</td>\n",
       "      <td>NaN</td>\n",
       "    </tr>\n",
       "  </tbody>\n",
       "</table>\n",
       "<p>1259 rows × 25 columns</p>\n",
       "</div>"
      ],
      "text/plain": [
       "      Age  Gender         Country state self_employed family_history  \\\n",
       "0      37  Female   United States    IL           NaN             No   \n",
       "1      44       M   United States    IN           NaN             No   \n",
       "2      32    Male          Canada   NaN           NaN             No   \n",
       "3      31    Male  United Kingdom   NaN           NaN            Yes   \n",
       "4      31    Male   United States    TX           NaN             No   \n",
       "...   ...     ...             ...   ...           ...            ...   \n",
       "1254   26    male  United Kingdom   NaN            No             No   \n",
       "1255   32    Male   United States    IL            No            Yes   \n",
       "1256   34    male   United States    CA            No            Yes   \n",
       "1257   46       f   United States    NC            No             No   \n",
       "1258   25    Male   United States    IL            No            Yes   \n",
       "\n",
       "     treatment work_interfere remote_work tech_company  ...  \\\n",
       "0          Yes          Often          No          Yes  ...   \n",
       "1           No         Rarely          No           No  ...   \n",
       "2           No         Rarely          No          Yes  ...   \n",
       "3          Yes          Often          No          Yes  ...   \n",
       "4           No          Never         Yes          Yes  ...   \n",
       "...        ...            ...         ...          ...  ...   \n",
       "1254       Yes            NaN          No          Yes  ...   \n",
       "1255       Yes          Often         Yes          Yes  ...   \n",
       "1256       Yes      Sometimes          No          Yes  ...   \n",
       "1257        No            NaN         Yes          Yes  ...   \n",
       "1258       Yes      Sometimes          No           No  ...   \n",
       "\n",
       "                   leave mental_health_consequence phys_health_consequence  \\\n",
       "0          Somewhat easy                        No                      No   \n",
       "1             Don't know                     Maybe                      No   \n",
       "2     Somewhat difficult                        No                      No   \n",
       "3     Somewhat difficult                       Yes                     Yes   \n",
       "4             Don't know                        No                      No   \n",
       "...                  ...                       ...                     ...   \n",
       "1254       Somewhat easy                        No                      No   \n",
       "1255  Somewhat difficult                        No                      No   \n",
       "1256  Somewhat difficult                       Yes                     Yes   \n",
       "1257          Don't know                       Yes                      No   \n",
       "1258          Don't know                     Maybe                      No   \n",
       "\n",
       "         coworkers    supervisor mental_health_interview  \\\n",
       "0     Some of them           Yes                      No   \n",
       "1               No            No                      No   \n",
       "2              Yes           Yes                     Yes   \n",
       "3     Some of them            No                   Maybe   \n",
       "4     Some of them           Yes                     Yes   \n",
       "...            ...           ...                     ...   \n",
       "1254  Some of them  Some of them                      No   \n",
       "1255  Some of them           Yes                      No   \n",
       "1256            No            No                      No   \n",
       "1257            No            No                      No   \n",
       "1258  Some of them            No                      No   \n",
       "\n",
       "     phys_health_interview mental_vs_physical obs_consequence comments  \n",
       "0                    Maybe                Yes              No      NaN  \n",
       "1                       No         Don't know              No      NaN  \n",
       "2                      Yes                 No              No      NaN  \n",
       "3                    Maybe                 No             Yes      NaN  \n",
       "4                      Yes         Don't know              No      NaN  \n",
       "...                    ...                ...             ...      ...  \n",
       "1254                    No         Don't know              No      NaN  \n",
       "1255                    No                Yes              No      NaN  \n",
       "1256                    No                 No              No      NaN  \n",
       "1257                    No                 No              No      NaN  \n",
       "1258                    No         Don't know              No      NaN  \n",
       "\n",
       "[1259 rows x 25 columns]"
      ]
     },
     "execution_count": 2,
     "metadata": {},
     "output_type": "execute_result"
    }
   ],
   "source": [
    "df = pd.read_csv('survey.csv')\n",
    "df\n"
   ]
  },
  {
   "cell_type": "code",
   "execution_count": 3,
   "id": "9ab0ba1f",
   "metadata": {},
   "outputs": [
    {
     "name": "stdout",
     "output_type": "stream",
     "text": [
      "<class 'pandas.core.frame.DataFrame'>\n",
      "RangeIndex: 1259 entries, 0 to 1258\n",
      "Data columns (total 25 columns):\n",
      " #   Column                     Non-Null Count  Dtype \n",
      "---  ------                     --------------  ----- \n",
      " 0   Age                        1259 non-null   int64 \n",
      " 1   Gender                     1259 non-null   object\n",
      " 2   Country                    1259 non-null   object\n",
      " 3   state                      744 non-null    object\n",
      " 4   self_employed              1241 non-null   object\n",
      " 5   family_history             1259 non-null   object\n",
      " 6   treatment                  1259 non-null   object\n",
      " 7   work_interfere             995 non-null    object\n",
      " 8   remote_work                1259 non-null   object\n",
      " 9   tech_company               1259 non-null   object\n",
      " 10  benefits                   1259 non-null   object\n",
      " 11  care_options               1259 non-null   object\n",
      " 12  wellness_program           1259 non-null   object\n",
      " 13  seek_help                  1259 non-null   object\n",
      " 14  anonymity                  1259 non-null   object\n",
      " 15  leave                      1259 non-null   object\n",
      " 16  mental_health_consequence  1259 non-null   object\n",
      " 17  phys_health_consequence    1259 non-null   object\n",
      " 18  coworkers                  1259 non-null   object\n",
      " 19  supervisor                 1259 non-null   object\n",
      " 20  mental_health_interview    1259 non-null   object\n",
      " 21  phys_health_interview      1259 non-null   object\n",
      " 22  mental_vs_physical         1259 non-null   object\n",
      " 23  obs_consequence            1259 non-null   object\n",
      " 24  comments                   164 non-null    object\n",
      "dtypes: int64(1), object(24)\n",
      "memory usage: 246.0+ KB\n"
     ]
    }
   ],
   "source": [
    "df.info()"
   ]
  },
  {
   "attachments": {},
   "cell_type": "markdown",
   "id": "da198a32",
   "metadata": {},
   "source": [
    "In the below code I am trying to find if there is any missing values and I am doing that my getting the percentage. The data.isna() 'data', where each element is True if the corresponding element in data is missing (i.e., NaN), and False otherwise. The .sum() helps in returning the sum of missing values. And the rest of the code returns number of rows, calculates the missing values and multiplies it by 100 to get the percentage. As we can see that there is significant missing values in 4 columns(state, Self_employed, work_interfere and comments). "
   ]
  },
  {
   "cell_type": "code",
   "execution_count": 4,
   "id": "7036fafd",
   "metadata": {},
   "outputs": [
    {
     "data": {
      "text/plain": [
       "Age                           0.000000\n",
       "Gender                        0.000000\n",
       "Country                       0.000000\n",
       "state                        40.905481\n",
       "self_employed                 1.429706\n",
       "family_history                0.000000\n",
       "treatment                     0.000000\n",
       "work_interfere               20.969023\n",
       "remote_work                   0.000000\n",
       "tech_company                  0.000000\n",
       "benefits                      0.000000\n",
       "care_options                  0.000000\n",
       "wellness_program              0.000000\n",
       "seek_help                     0.000000\n",
       "anonymity                     0.000000\n",
       "leave                         0.000000\n",
       "mental_health_consequence     0.000000\n",
       "phys_health_consequence       0.000000\n",
       "coworkers                     0.000000\n",
       "supervisor                    0.000000\n",
       "mental_health_interview       0.000000\n",
       "phys_health_interview         0.000000\n",
       "mental_vs_physical            0.000000\n",
       "obs_consequence               0.000000\n",
       "comments                     86.973789\n",
       "dtype: float64"
      ]
     },
     "execution_count": 4,
     "metadata": {},
     "output_type": "execute_result"
    }
   ],
   "source": [
    "df.isna().sum()/len(df.index)*100"
   ]
  },
  {
   "cell_type": "markdown",
   "id": "7f03ab03",
   "metadata": {},
   "source": [
    "In the below code I have gotten unique age that we have throughout this dataset. Some of the age below is in negative which is weird and it shows that that data collection quality has not been good so I am going to clean this column even more by putting an age range. Which is shown in the code below this. "
   ]
  },
  {
   "cell_type": "code",
   "execution_count": 5,
   "id": "8ecca778",
   "metadata": {},
   "outputs": [
    {
     "data": {
      "text/plain": [
       "array([         37,          44,          32,          31,          33,\n",
       "                35,          39,          42,          23,          29,\n",
       "                36,          27,          46,          41,          34,\n",
       "                30,          40,          38,          50,          24,\n",
       "                18,          28,          26,          22,          19,\n",
       "                25,          45,          21,         -29,          43,\n",
       "                56,          60,          54,         329,          55,\n",
       "       99999999999,          48,          20,          57,          58,\n",
       "                47,          62,          51,          65,          49,\n",
       "             -1726,           5,          53,          61,           8,\n",
       "                11,          -1,          72])"
      ]
     },
     "execution_count": 5,
     "metadata": {},
     "output_type": "execute_result"
    }
   ],
   "source": [
    "df['Age'].unique()"
   ]
  },
  {
   "cell_type": "markdown",
   "id": "20313adb",
   "metadata": {},
   "source": [
    "In the below code, I have basically said that wherever there is a number less than 12, replace it with 15. And where there is a number bigger than 75 replace that with 75. This just helps to remove all the outliers and NaNs and gives us more accurate data. The 'loc' method is used to select the rows and column where the conditions need to be applied. "
   ]
  },
  {
   "cell_type": "code",
   "execution_count": 6,
   "id": "4f5ea4d5",
   "metadata": {},
   "outputs": [],
   "source": [
    "df.loc[df.Age<12,'Age']=15\n",
    "df.loc[df.Age>75,'Age']=75"
   ]
  },
  {
   "cell_type": "markdown",
   "id": "4930d9f8",
   "metadata": {},
   "source": [
    "I have done the same for the gender category below. The reason I did it that way is because alot of people have identified with different genders or have used different words to describe the same gender. So I have cleaned the data here by putting the into three categories where all 'Cis Male' are in Male category, All 'Cis Female' are in Female category and all other genders like 'gender fluid', 'Transgender' are in 'Other' category. This will help us to visualise the data better. "
   ]
  },
  {
   "cell_type": "code",
   "execution_count": 7,
   "id": "b5b33010",
   "metadata": {},
   "outputs": [
    {
     "data": {
      "text/plain": [
       "array(['Female', 'M', 'Male', 'male', 'female', 'm', 'Male-ish', 'maile',\n",
       "       'Trans-female', 'Cis Female', 'F', 'something kinda male?',\n",
       "       'Cis Male', 'Woman', 'f', 'Mal', 'Male (CIS)', 'queer/she/they',\n",
       "       'non-binary', 'Femake', 'woman', 'Make', 'Nah', 'All', 'Enby',\n",
       "       'fluid', 'Genderqueer', 'Female ', 'Androgyne', 'Agender',\n",
       "       'cis-female/femme', 'Guy (-ish) ^_^', 'male leaning androgynous',\n",
       "       'Male ', 'Man', 'Trans woman', 'msle', 'Neuter', 'Female (trans)',\n",
       "       'queer', 'Female (cis)', 'Mail', 'cis male', 'A little about you',\n",
       "       'Malr', 'p', 'femail', 'Cis Man',\n",
       "       'ostensibly male, unsure what that really means'], dtype=object)"
      ]
     },
     "execution_count": 7,
     "metadata": {},
     "output_type": "execute_result"
    }
   ],
   "source": [
    "df['Gender'].unique()"
   ]
  },
  {
   "cell_type": "code",
   "execution_count": 8,
   "id": "6bcd20a4",
   "metadata": {},
   "outputs": [],
   "source": [
    "df['Gender'].replace(['Male ', 'male', 'M', 'm', 'Male', 'Cis Male',\n",
    "                     'Man', 'cis male', 'Mail', 'Male-ish', 'Male (CIS)',\n",
    "                      'Cis Man', 'msle', 'Malr', 'Mal', 'maile', 'Make',], 'Male', inplace = True)\n",
    "\n",
    "df['Gender'].replace(['Female ', 'female', 'F', 'f', 'Woman', 'Female',\n",
    "                     'femail', 'Cis Female', 'cis-female/femme', 'Femake', 'Female (cis)',\n",
    "                     'woman',], 'Female', inplace = True)\n",
    "\n",
    "df[\"Gender\"].replace(['Female (trans)', 'queer/she/they', 'non-binary',\n",
    "                     'fluid', 'queer', 'Androgyne', 'Trans-female', 'male leaning androgynous',\n",
    "                      'Agender', 'A little about you', 'Nah', 'All',\n",
    "                      'ostensibly male, unsure what that really means',\n",
    "                      'Genderqueer', 'Enby', 'p', 'Neuter', 'something kinda male?',\n",
    "                      'Guy (-ish) ^_^', 'Trans woman',], 'Other', inplace = True)"
   ]
  },
  {
   "cell_type": "code",
   "execution_count": 9,
   "id": "278abd41",
   "metadata": {},
   "outputs": [
    {
     "data": {
      "text/plain": [
       "Male      991\n",
       "Female    247\n",
       "Other      21\n",
       "Name: Gender, dtype: int64"
      ]
     },
     "execution_count": 9,
     "metadata": {},
     "output_type": "execute_result"
    }
   ],
   "source": [
    "df['Gender'].value_counts()"
   ]
  },
  {
   "cell_type": "markdown",
   "id": "8389eaf7",
   "metadata": {},
   "source": [
    "I am making a copy of the dataset so that I keep them seperated for the analysis part and the machine learning part. This will ensure that the dataset does not get affected while performing various tasks. "
   ]
  },
  {
   "cell_type": "code",
   "execution_count": 10,
   "id": "727d9dbb",
   "metadata": {},
   "outputs": [],
   "source": [
    "copydataset = df.copy()"
   ]
  },
  {
   "cell_type": "markdown",
   "id": "0916043c",
   "metadata": {},
   "source": [
    "# Visual Data Analysis"
   ]
  },
  {
   "cell_type": "markdown",
   "id": "bc5e5591",
   "metadata": {},
   "source": [
    "In the below code the result shows answer to the quetion \"Have you gotten treatment for a mental health condition ?\". The percentage of people gotten treatment is 50%. Mental health is still seen as taboo in tech industry and a lot of people do not take it seriuosly or do not get treatment for it."
   ]
  },
  {
   "cell_type": "markdown",
   "id": "01057d1a",
   "metadata": {},
   "source": [
    "The way the code works is that I have set a background style for the graph and size of the graph. I have then calculated the count and percentage of survey respondents who reported whether they received mental health treatment or not by using 'values-count' and 'Percentage'. It then creates the graph by using Seaborn. \n",
    "\n",
    "The function 'value_counts()' counts the instances of each distinct value in the 'Treatment' column.\n",
    "'(normalize = True)' divides each value by the total value to normalise the count. Counts are changed to percentages in this manner.\n",
    "The index of the resultant Series is renamed to \"Treatment\" using the command 'rename_axis'.\n",
    "Rename the column containing the normalised counts to \"Percentage\" by using the command 'reset_index'. This changes the resultant Series into a DataFrame."
   ]
  },
  {
   "cell_type": "code",
   "execution_count": 11,
   "id": "bfff3bb8",
   "metadata": {},
   "outputs": [
    {
     "data": {
      "image/png": "[encoded data removed]",
      "text/plain": [
       "<Figure size 504x360 with 1 Axes>"
      ]
     },
     "metadata": {},
     "output_type": "display_data"
    }
   ],
   "source": [
    "sns.set_style(\"darkgrid\")\n",
    "plt.figure(figsize = (7,5))\n",
    "data_percent = copydataset['treatment'].value_counts(normalize = True).rename_axis('treatment').reset_index(name = 'Percentage')\n",
    "sns.barplot(x = 'treatment', y = 'Percentage', data = data_percent, palette=['pink', 'teal'])\n",
    "plt.title('Employee who got treatment')\n",
    "plt.show()"
   ]
  },
  {
   "cell_type": "markdown",
   "id": "884ca644",
   "metadata": {},
   "source": [
    "## Gender Analysis"
   ]
  },
  {
   "cell_type": "markdown",
   "id": "fdd6c0b7",
   "metadata": {},
   "source": [
    "Below I have also made a bar plots to show the visual analysis of the gender column. I have done that in order to understand more about distribution across the dataset and also to understand which group is effecting more."
   ]
  },
  {
   "attachments": {},
   "cell_type": "markdown",
   "id": "7045ab9b",
   "metadata": {},
   "source": [
    "This code generates a figure with two subplots.\n",
    "\n",
    "Using a barplot from the Seaborn library, the first subplot displays the gender-specific percentage of survey respondents. The count of each gender group is first obtained using the \"Gender\" column of the \"copydataset\" DataFrame, which is then normalised to obtain the percentage. The'sns.barplot' method is then used to plot the barplot on the 'data percent' DataFrame.\n",
    "\n",
    "Using a countplot from the Seaborn library, the second subplot displays the count of survey respondents by gender and treatment. The 'Treatment' column of the'copydataset' DataFrame is utilised to construct separate bars for each treatment group for each gender category. The 'Gender' column serves as the x-axis\n",
    "\n",
    "The first line of the code lets me make one plot below another. nrows, ncols menas that there are two row(two graphs) in one column. axes[0] and axes[1] are the respective variables to call the two sub plots.\n",
    "\n",
    "All the graphs from here on use the same methodolgy and implementation.  "
   ]
  },
  {
   "cell_type": "markdown",
   "id": "7af0d644",
   "metadata": {},
   "source": [
    "ANALYSIS OF THE GRAPH:\n",
    "\n",
    "The two plots show the visual answer to the question \"What is your gender?\". It is important to look into this data analysis as it says a lot about which gender dominates the field, and it can also make us think about why people might be suffereing from the mental health issues. \n",
    "\n",
    "As we can see from the graph alomost 79% of the people are male which tells us that Tech industry is a male dominated field which is not a suprise. We can see that there are only around 20% of female and 1% of other gender. The reason for mental health issues from minority groups could be discrimination that they might face in this field but htere could be other factors as well. We can also see from the second plot that that female and other gender also are more likely to accept treatment for mental health than men. "
   ]
  },
  {
   "cell_type": "code",
   "execution_count": 12,
   "id": "eca89416",
   "metadata": {},
   "outputs": [
    {
     "data": {
      "image/png": "[encoded data removed]",
      "text/plain": [
       "<Figure size 720x720 with 2 Axes>"
      ]
     },
     "metadata": {},
     "output_type": "display_data"
    }
   ],
   "source": [
    "fig, axes = plt.subplots(nrows=2, ncols=1, figsize=(10, 10))\n",
    "\n",
    "# subplot 1\n",
    "data_percent = copydataset['Gender'].value_counts(normalize=True).rename_axis('Gender').reset_index(name='Percentage')\n",
    "sns.barplot(x='Gender', y='Percentage', data=data_percent, palette=['#8B5FBF', '#FF5733', '#C70039'], ax=axes[0])\n",
    "axes[0].set_title('Different Genders that took the survey')\n",
    "\n",
    "# subplot 2\n",
    "sns.countplot(copydataset['Gender'], hue=copydataset['treatment'], palette=['pink', 'teal'], ax=axes[1])\n",
    "axes[1].set_title('Treatment Each gender will take')\n",
    "\n",
    "plt.show()"
   ]
  },
  {
   "cell_type": "markdown",
   "id": "7755b118",
   "metadata": {},
   "source": [
    "## Age Analysis"
   ]
  },
  {
   "cell_type": "markdown",
   "id": "99c362bf",
   "metadata": {},
   "source": [
    "ANALYSIS OF THE GRAPH:\n",
    "From the graph we can see that most of the employess in the dataset are between the age of 20-40. It means the tech industry is dominated by young people. Which can be why most of the mental health struggle is seen in young people as the pressure of work, home and to prove themselves can be some of the reasons. "
   ]
  },
  {
   "cell_type": "code",
   "execution_count": 13,
   "id": "9641c2bf",
   "metadata": {},
   "outputs": [
    {
     "data": {
      "image/png": "[encoded data removed]",
      "text/plain": [
       "<Figure size 1440x1440 with 2 Axes>"
      ]
     },
     "metadata": {},
     "output_type": "display_data"
    }
   ],
   "source": [
    "fig, axes = plt.subplots(nrows=2, ncols=1, figsize=(20, 20))\n",
    "\n",
    "# subplot 1\n",
    "data_percent = copydataset['Age'].value_counts(normalize=True).rename_axis('Age').reset_index(name='Percentage')\n",
    "sns.barplot(x='Age', y='Percentage', data=data_percent, ax=axes[0])\n",
    "axes[0].set_title('Different Ages that took the survey')\n",
    "\n",
    "# subplot 2\n",
    "sns.countplot(copydataset['Age'], hue=copydataset['treatment'], ax=axes[1])\n",
    "axes[1].set_title('Treatment of different age group will take')\n",
    "\n",
    "plt.show()"
   ]
  },
  {
   "cell_type": "markdown",
   "id": "78ba0444",
   "metadata": {},
   "source": [
    "## Family History"
   ]
  },
  {
   "cell_type": "markdown",
   "id": "dd681294",
   "metadata": {},
   "source": [
    "The below code shows the visual analysis to the question \" is there any family history of mental illness?\""
   ]
  },
  {
   "attachments": {},
   "cell_type": "markdown",
   "id": "e5bb737a",
   "metadata": {},
   "source": [
    "ANALYSIS OF THE GRAPH:\n",
    "\n",
    "The graph shows that atleast 40% of the people have family history of mental health ilness. The second plot also shows that people who have had family history are more likely to get a treatment. Understanding this is important as mental health problems can be heridetry so visualising that makes it easier to understand the problems people are facing. "
   ]
  },
  {
   "cell_type": "code",
   "execution_count": 14,
   "id": "a63f793d",
   "metadata": {},
   "outputs": [
    {
     "data": {
      "image/png": "[encoded data removed]",
      "text/plain": [
       "<Figure size 720x720 with 2 Axes>"
      ]
     },
     "metadata": {},
     "output_type": "display_data"
    }
   ],
   "source": [
    "fig, axes = plt.subplots(nrows=2, ncols=1, figsize=(10, 10))\n",
    "\n",
    "# subplot 1\n",
    "data_percent = copydataset['family_history'].value_counts(normalize=True).rename_axis('family_history').reset_index(name='Percentage')\n",
    "sns.barplot(x='family_history', y='Percentage', data=data_percent, palette=['pink', 'teal'], ax=axes[0])\n",
    "axes[0].set_title('Family History')\n",
    "\n",
    "# subplot 2\n",
    "sns.countplot(copydataset['family_history'], hue=copydataset['treatment'], palette=['pink', 'teal'], ax=axes[1])\n",
    "axes[1].set_title('Treatments for employees who have family history of mental health issues')\n",
    "\n",
    "plt.show()\n"
   ]
  },
  {
   "cell_type": "markdown",
   "id": "bab443c1",
   "metadata": {},
   "source": [
    "## Work Involvement"
   ]
  },
  {
   "cell_type": "markdown",
   "id": "36b61759",
   "metadata": {},
   "source": [
    "There are two subplots below they are the answer to the question \"has you work made any involvment for your mental health\". \n",
    "\n",
    "DATA ANALYSIS OF THE GRAPH:\n",
    "\n",
    "We can see from the below graph more than 20% of time companies have not made any inisiative and more that 45% of time companies have sometimes made an initiative to question about thier employess mental health. We can also see from the second plot that the company that never asks about there employess wellbeing, employee there are less likely to get treatment for their mental health than other employess in differnt companies. "
   ]
  },
  {
   "cell_type": "code",
   "execution_count": 15,
   "id": "4f7ecaa3",
   "metadata": {},
   "outputs": [
    {
     "data": {
      "image/png": "[encoded data removed]",
      "text/plain": [
       "<Figure size 720x720 with 2 Axes>"
      ]
     },
     "metadata": {},
     "output_type": "display_data"
    }
   ],
   "source": [
    "fig, axes = plt.subplots(nrows=2, ncols=1, figsize=(10, 10))\n",
    "\n",
    "# subplot 1\n",
    "data_percent = copydataset['work_interfere'].value_counts(normalize=True).rename_axis('work_interfere').reset_index(name='Percentage')\n",
    "sns.barplot(x='work_interfere', y='Percentage', data=data_percent, palette=['#8B5FBF', '#FF5733', '#C70039', '#1b5e20'], ax=axes[0])\n",
    "axes[0].set_title('Does Work Intefere/Worry about Mental Health')\n",
    "\n",
    "# subplot 2\n",
    "sns.countplot(copydataset['work_interfere'], hue=copydataset['treatment'], palette=['pink', 'teal'], ax=axes[1])\n",
    "axes[1].set_title('Treatments based on work place involvement')\n",
    "\n",
    "plt.show()\n"
   ]
  },
  {
   "cell_type": "markdown",
   "id": "24cb3566",
   "metadata": {},
   "source": [
    "## Negative Consequences"
   ]
  },
  {
   "cell_type": "markdown",
   "id": "34367799",
   "metadata": {},
   "source": [
    "The below code showcases two subplots that gives the answer to the question \" Have you heard of or observed negative consequences for coworkers with mental health conditions in your workplace?\". This is important to know about how employees are treated well their mental health problems are disclossed. Around 15% of people said yes, and out of the 15% around 65-70% want to get treatment. "
   ]
  },
  {
   "cell_type": "code",
   "execution_count": 16,
   "id": "d19c5176",
   "metadata": {},
   "outputs": [
    {
     "data": {
      "image/png": "[encoded data removed]",
      "text/plain": [
       "<Figure size 720x720 with 2 Axes>"
      ]
     },
     "metadata": {},
     "output_type": "display_data"
    }
   ],
   "source": [
    "fig, axes = plt.subplots(nrows=2, ncols=1, figsize=(10, 10))\n",
    "\n",
    "# subplot 1\n",
    "data_percent = copydataset['obs_consequence'].value_counts(normalize=True).rename_axis('obs_consequence').reset_index(name='Percentage')\n",
    "sns.barplot(x='obs_consequence', y='Percentage', data=data_percent, palette=['pink', 'teal'], ax=axes[0])\n",
    "axes[0].set_title('Negative consequence faced by an employee')\n",
    "\n",
    "# subplot 2\n",
    "sns.countplot(copydataset['obs_consequence'], hue=copydataset['treatment'], palette=['pink', 'teal'], ax=axes[1])\n",
    "axes[1].set_title('Treatment Based on the negative consequence faced')\n",
    "\n",
    "plt.show()\n"
   ]
  },
  {
   "cell_type": "markdown",
   "id": "343ff5b3",
   "metadata": {},
   "source": [
    "## Benefits"
   ]
  },
  {
   "cell_type": "markdown",
   "id": "b657ef9d",
   "metadata": {},
   "source": [
    "The below code displays two subplots based on the question \"Do their emplyers give them any mental health benefits?\".\n",
    "\n",
    "DATA ANALYSYS OF THE GRAPH:\n",
    "\n",
    "Only 40% of the employess get mental health benefits and from the second plot we can also see that they are the large number of people that want to be treated for their problems. Another interesting thing is that people who do not get benefits also majorly want to get mental health treatment. "
   ]
  },
  {
   "cell_type": "code",
   "execution_count": 17,
   "id": "81c1d80e",
   "metadata": {},
   "outputs": [
    {
     "data": {
      "image/png": "[encoded data removed]",
      "text/plain": [
       "<Figure size 720x720 with 2 Axes>"
      ]
     },
     "metadata": {},
     "output_type": "display_data"
    }
   ],
   "source": [
    "fig, axes = plt.subplots(nrows=2, ncols=1, figsize=(10, 10))\n",
    "\n",
    "# subplot 1\n",
    "data_percent = copydataset['benefits'].value_counts(normalize=True).rename_axis('benefits').reset_index(name='Percentage')\n",
    "sns.barplot(x='benefits', y='Percentage', data=data_percent, palette=['#8B5FBF', '#FF5733', '#C70039'], ax=axes[0])\n",
    "axes[0].set_title('Known Benefits provided by Employers')\n",
    "\n",
    "# subplot 2\n",
    "sns.countplot(copydataset['benefits'], hue=copydataset['treatment'], palette=['pink', 'teal'], ax=axes[1])\n",
    "axes[1].set_title('Treatment based on if the benefits were provided')\n",
    "\n",
    "plt.show()"
   ]
  },
  {
   "cell_type": "markdown",
   "id": "e0c3afac",
   "metadata": {},
   "source": [
    "## Anonimity"
   ]
  },
  {
   "cell_type": "markdown",
   "id": "6986313e",
   "metadata": {},
   "source": [
    "The below code shows the analysis for the question \"Is your anonymity protected when you choose to talk about mental health and substance abuse?\".\n",
    "\n",
    "DATA ANALYSIS OF THE GRAPH:\n",
    "\n",
    "Around 30% say that their anonymity was protected and from the second graph we can see that they are more likely to get treatment. Suprisingly emplyees whose anonymity is protect are also the ones who are more likely to get treatment. "
   ]
  },
  {
   "cell_type": "code",
   "execution_count": 18,
   "id": "23f26236",
   "metadata": {},
   "outputs": [
    {
     "data": {
      "image/png": "[encoded data removed]",
      "text/plain": [
       "<Figure size 720x720 with 2 Axes>"
      ]
     },
     "metadata": {},
     "output_type": "display_data"
    }
   ],
   "source": [
    "fig, axes = plt.subplots(nrows=2, ncols=1, figsize=(10, 10))\n",
    "\n",
    "# subplot 1\n",
    "data_percent = copydataset['anonymity'].value_counts(normalize=True).rename_axis('anonymity').reset_index(name='Percentage')\n",
    "sns.barplot(x='anonymity', y='Percentage', data=data_percent, palette=['pink', 'teal'], ax=axes[0])\n",
    "axes[0].set_title('How Anonymous emplyers/companies are')\n",
    "\n",
    "# subplot 2\n",
    "sns.countplot(copydataset['anonymity'], hue=copydataset['treatment'], palette=['pink', 'teal'], ax=axes[1])\n",
    "axes[1].set_title('Treatment based on anonymity')\n",
    "\n",
    "plt.show()"
   ]
  },
  {
   "cell_type": "markdown",
   "id": "88167eaa",
   "metadata": {},
   "source": [
    "## Conclusion"
   ]
  },
  {
   "cell_type": "markdown",
   "id": "62cf78d3",
   "metadata": {},
   "source": [
    "Based on the analysis that was done:\n",
    "\n",
    "•\t50% of the people who took the survey have had mental health treatment.\n",
    "•\tTech industry is filled with young people, most people working are between the age of 25 and 35, and this age         group also sees the most mental health problems. \n",
    "•\tTech industry is dominated by men (almost 80%) but still women are the ones who are more likely to get a treatment     than men and Queer people. \n",
    "•\tAlmost 40% of people have had family members who have suffered from mental health issues, and they are also the       group of people who are more likely to have a treatment. \n",
    "•\tWork/Employers hardly ever interfere when their employees are having a crisis, and when the work does interfere,       the people are more likely to get a treatment. Surprising factor was also that when work rarely interfere, they       will still get treatment. \n",
    "•\t15% of people have had negative consequences with their work/employer after they disclosed about their mental         health issues. But majority of those people are still likely to get treatment. \n",
    "•\tMore than 35% of people get company benefits regarding mental health, around 30% do not get any benefits. And         people who get benefits are more likely to get treatment. \n",
    "•\t30% of people’s company keep anonymity of employees regarding their health issues. More than 65% do not know if       their company is anonymous.\n",
    "\n"
   ]
  },
  {
   "cell_type": "markdown",
   "id": "9d4ad40c",
   "metadata": {},
   "source": [
    "## Machine Learning and Models"
   ]
  },
  {
   "cell_type": "markdown",
   "id": "04581fd5",
   "metadata": {},
   "source": [
    "The machine learning models part starts here, from the above processing of data and finding NaN values, I found that 86% of the comments column had NaN values so I am dropiing that column, and I am also droppinf country and state column as the 70% of people who took the survey are from US so I do not want to hold that bias of the country when training the dataset."
   ]
  },
  {
   "cell_type": "code",
   "execution_count": 20,
   "id": "b3feffce",
   "metadata": {},
   "outputs": [],
   "source": [
    "df = df.drop(['Country','state','comments'], axis = 1)"
   ]
  },
  {
   "cell_type": "markdown",
   "id": "7a14ace1",
   "metadata": {},
   "source": [
    "# Data processing"
   ]
  },
  {
   "cell_type": "markdown",
   "id": "13bff19b",
   "metadata": {},
   "source": [
    "In the below I have now started to process the data. So the train_test_split will help us split the data into two set one train_set and a test_set. test_size=0.15 is what amount of percentage will be used for testing. In this cas 15% of data will be used for testing and 85% will be used for training the datset. As you can see below that I have used stratify to train and test the dataset. the reason why I am using this is to show that it keeps the same distribution of the target within the test and training dataset. In other words, it preserves the propotion of how the data is distributed in the target column and shows the same distribution in the train_test_split. By doing this it helps the model by preventing it from being trained and tested on an unrealistic data distribution. lastly random_state helps to make sure that the train_test_split is reproducible. These things will help us to build the machine learning models. "
   ]
  },
  {
   "cell_type": "code",
   "execution_count": 21,
   "id": "684ef012",
   "metadata": {},
   "outputs": [],
   "source": [
    "from sklearn.model_selection import train_test_split\n",
    "train_data, test_data = train_test_split(df,test_size=0.15,stratify=df['treatment'],random_state=42 )\n"
   ]
  },
  {
   "cell_type": "markdown",
   "id": "52a43ab4",
   "metadata": {},
   "source": [
    "Using the .mode() method, the code first determines the mode of the \"self employed\" column in the training data and stores it in the variable se_mode. Next, using the.fillna() method, it substitutes the mode value for any missing values in the'self_employed' column.\n",
    "\n",
    "The code then uses the.isna() method to find the rows where the 'work interfere' column is missing, and boolean indexing is used to filter the training data. The .value counts() method is then used to count the instances of each distinct value in the 'treatment' column for the filtered data. This makes it easier to determine if there is a pattern or connection between the missing values for the \"work interfere\" column and the \"treatment\" column."
   ]
  },
  {
   "cell_type": "code",
   "execution_count": 22,
   "id": "4c349b4e",
   "metadata": {},
   "outputs": [
    {
     "data": {
      "text/plain": [
       "No     223\n",
       "Yes      3\n",
       "Name: treatment, dtype: int64"
      ]
     },
     "execution_count": 22,
     "metadata": {},
     "output_type": "execute_result"
    }
   ],
   "source": [
    "selfemployed_column = train_data['self_employed'].mode().values[0] \n",
    "train_data['self_employed'].fillna(selfemployed_column,inplace=True)\n",
    "train_data[train_data['work_interfere'].isna()]['treatment'].value_counts()"
   ]
  },
  {
   "cell_type": "markdown",
   "id": "ad2a6748",
   "metadata": {},
   "source": [
    "This code uses the.fillna() method to replace any missing values in the training data's 'work interfere' column with the word \"Never.\""
   ]
  },
  {
   "cell_type": "code",
   "execution_count": 23,
   "id": "9341efba",
   "metadata": {},
   "outputs": [],
   "source": [
    "train_data['work_interfere'].fillna('Never',inplace = True)"
   ]
  },
  {
   "cell_type": "markdown",
   "id": "2956e865",
   "metadata": {},
   "source": [
    "The train_data DataFrame is divided into two pieces by this code: X_train and y_train.\n",
    "\n",
    "With the exception of the \"treatment\" column, which is removed using the drop() function with the axis=1 (i.e., columns) specification, X_train is a new DataFrame that contains all the columns from train data.\n",
    "\n",
    "Only the 'treatment' column from train data was copied into the pandas series y_train using the copy() technique.\n",
    "\n",
    "A machine learning model will be trained using the training data using these two new objects, X_train and y_train."
   ]
  },
  {
   "cell_type": "code",
   "execution_count": 24,
   "id": "a2e56228",
   "metadata": {},
   "outputs": [],
   "source": [
    "X_train = train_data.drop('treatment',axis=1)\n",
    "y_train = train_data['treatment'].copy()"
   ]
  },
  {
   "cell_type": "code",
   "execution_count": 25,
   "id": "3e74f659",
   "metadata": {},
   "outputs": [
    {
     "data": {
      "text/plain": [
       "Index(['Age', 'Gender', 'self_employed', 'family_history', 'treatment',\n",
       "       'work_interfere', 'remote_work', 'tech_company', 'benefits',\n",
       "       'care_options', 'wellness_program', 'seek_help', 'anonymity', 'leave',\n",
       "       'mental_health_consequence', 'phys_health_consequence', 'coworkers',\n",
       "       'supervisor', 'mental_health_interview', 'phys_health_interview',\n",
       "       'mental_vs_physical', 'obs_consequence'],\n",
       "      dtype='object')"
      ]
     },
     "execution_count": 25,
     "metadata": {},
     "output_type": "execute_result"
    }
   ],
   "source": [
    "train_data.columns"
   ]
  },
  {
   "cell_type": "markdown",
   "id": "4ddb11c8",
   "metadata": {},
   "source": [
    "With each inner list containing the potential values for a category column in the dataset, this generates a list of lists. The category columns in these lists will be input to an ordinal encoder in order to create numeral values."
   ]
  },
  {
   "cell_type": "code",
   "execution_count": 26,
   "id": "82d84105",
   "metadata": {},
   "outputs": [],
   "source": [
    "Gender = ['Female','Male','Other']\n",
    "SelfEmployed = ['No','Yes']\n",
    "FamilyHistory = ['No','Yes']\n",
    "WorkInterfere = ['Never','Rarely','Sometimes','Often']\n",
    "Remote = ['No','Yes']\n",
    "Company = ['No','Yes']\n",
    "CompanyBenefits = ['No','Don\\'t know','Yes'] \n",
    "CompanyOptions = ['No','Not sure','Yes']\n",
    "Wellness  =['No','Don\\'t know','Yes']\n",
    "Help = ['No','Don\\'t know','Yes']\n",
    "Anonymity = ['No','Don\\'t know','Yes']\n",
    "CompanyLeaves = [ 'Very easy', 'Somewhat easy',\"Don't know\" ,'Somewhat difficult','Very difficult']\n",
    "Consequences = ['No','Maybe','Yes']\n",
    "PhysicalHealth = ['No','Maybe','Yes']\n",
    "Coworkers = ['No','Some of them','Yes']\n",
    "Supervisor = ['No','Some of them','Yes']\n",
    "Interview = ['No','Maybe','Yes']\n",
    "PhysicalHealthInterview = ['No','Maybe','Yes']\n",
    "MentalVSPhysical = [\"Don't know\",'No','Yes']\n",
    "ObsConsequence = ['No','Yes']\n",
    "\n",
    "columns_for_encoder = [Gender, SelfEmployed, FamilyHistory, WorkInterfere, Remote, Company, CompanyBenefits, CompanyOptions,\n",
    "                      Wellness, Help, Anonymity, CompanyLeaves, Consequences, PhysicalHealth, Coworkers, Supervisor,\n",
    "                      Interview, PhysicalHealthInterview, MentalVSPhysical, ObsConsequence]\n"
   ]
  },
  {
   "cell_type": "code",
   "execution_count": 27,
   "id": "cba3bbc4",
   "metadata": {},
   "outputs": [],
   "source": [
    "ChoosenModelFeatures = list(X_train.columns)"
   ]
  },
  {
   "cell_type": "markdown",
   "id": "9a9af1da",
   "metadata": {},
   "source": [
    "The X_train DataFrame's categorical characteristics are converted into ordinal numbers in this code using the OrdinalEncoder from Scikit-Learn.\n",
    "\n",
    "Categories=list(columns_for_encoder), where columns for encoder is a list of lists containing all potential categories for each category characteristic, is used to setup the encoder.\n",
    "\n",
    "Finally, the feature in X_train are chosen, because the Age feature is in the first column, the category features are chosen, beginning with the second column. This is done by the use of X_train.iloc[:,1:].\n",
    "\n",
    "\"ord_encoder.fit_transform()\" then helps to tranform the categorical features. Then the resulting values that were transformed are assigned back to the same X-train.\n"
   ]
  },
  {
   "cell_type": "code",
   "execution_count": 28,
   "id": "c497a513",
   "metadata": {},
   "outputs": [],
   "source": [
    "from sklearn.preprocessing import OrdinalEncoder\n",
    "numeric_encoder = OrdinalEncoder(categories=list(columns_for_encoder))\n",
    "X_train[ChoosenModelFeatures[1:]] = numeric_encoder.fit_transform(X_train.iloc[:,1:])"
   ]
  },
  {
   "cell_type": "code",
   "execution_count": 29,
   "id": "d8b5f05b",
   "metadata": {},
   "outputs": [
    {
     "data": {
      "text/html": [
       "<div>\n",
       "<style scoped>\n",
       "    .dataframe tbody tr th:only-of-type {\n",
       "        vertical-align: middle;\n",
       "    }\n",
       "\n",
       "    .dataframe tbody tr th {\n",
       "        vertical-align: top;\n",
       "    }\n",
       "\n",
       "    .dataframe thead th {\n",
       "        text-align: right;\n",
       "    }\n",
       "</style>\n",
       "<table border=\"1\" class=\"dataframe\">\n",
       "  <thead>\n",
       "    <tr style=\"text-align: right;\">\n",
       "      <th></th>\n",
       "      <th>Age</th>\n",
       "      <th>Gender</th>\n",
       "      <th>self_employed</th>\n",
       "      <th>family_history</th>\n",
       "      <th>work_interfere</th>\n",
       "      <th>remote_work</th>\n",
       "      <th>tech_company</th>\n",
       "      <th>benefits</th>\n",
       "      <th>care_options</th>\n",
       "      <th>wellness_program</th>\n",
       "      <th>...</th>\n",
       "      <th>anonymity</th>\n",
       "      <th>leave</th>\n",
       "      <th>mental_health_consequence</th>\n",
       "      <th>phys_health_consequence</th>\n",
       "      <th>coworkers</th>\n",
       "      <th>supervisor</th>\n",
       "      <th>mental_health_interview</th>\n",
       "      <th>phys_health_interview</th>\n",
       "      <th>mental_vs_physical</th>\n",
       "      <th>obs_consequence</th>\n",
       "    </tr>\n",
       "  </thead>\n",
       "  <tbody>\n",
       "    <tr>\n",
       "      <th>676</th>\n",
       "      <td>22</td>\n",
       "      <td>1.0</td>\n",
       "      <td>0.0</td>\n",
       "      <td>0.0</td>\n",
       "      <td>0.0</td>\n",
       "      <td>0.0</td>\n",
       "      <td>1.0</td>\n",
       "      <td>0.0</td>\n",
       "      <td>0.0</td>\n",
       "      <td>0.0</td>\n",
       "      <td>...</td>\n",
       "      <td>1.0</td>\n",
       "      <td>2.0</td>\n",
       "      <td>1.0</td>\n",
       "      <td>1.0</td>\n",
       "      <td>1.0</td>\n",
       "      <td>2.0</td>\n",
       "      <td>1.0</td>\n",
       "      <td>1.0</td>\n",
       "      <td>0.0</td>\n",
       "      <td>0.0</td>\n",
       "    </tr>\n",
       "    <tr>\n",
       "      <th>88</th>\n",
       "      <td>29</td>\n",
       "      <td>0.0</td>\n",
       "      <td>0.0</td>\n",
       "      <td>0.0</td>\n",
       "      <td>2.0</td>\n",
       "      <td>0.0</td>\n",
       "      <td>1.0</td>\n",
       "      <td>2.0</td>\n",
       "      <td>2.0</td>\n",
       "      <td>0.0</td>\n",
       "      <td>...</td>\n",
       "      <td>1.0</td>\n",
       "      <td>2.0</td>\n",
       "      <td>1.0</td>\n",
       "      <td>0.0</td>\n",
       "      <td>1.0</td>\n",
       "      <td>1.0</td>\n",
       "      <td>0.0</td>\n",
       "      <td>1.0</td>\n",
       "      <td>1.0</td>\n",
       "      <td>1.0</td>\n",
       "    </tr>\n",
       "    <tr>\n",
       "      <th>86</th>\n",
       "      <td>39</td>\n",
       "      <td>1.0</td>\n",
       "      <td>1.0</td>\n",
       "      <td>0.0</td>\n",
       "      <td>3.0</td>\n",
       "      <td>0.0</td>\n",
       "      <td>1.0</td>\n",
       "      <td>0.0</td>\n",
       "      <td>0.0</td>\n",
       "      <td>0.0</td>\n",
       "      <td>...</td>\n",
       "      <td>1.0</td>\n",
       "      <td>4.0</td>\n",
       "      <td>1.0</td>\n",
       "      <td>0.0</td>\n",
       "      <td>1.0</td>\n",
       "      <td>0.0</td>\n",
       "      <td>0.0</td>\n",
       "      <td>1.0</td>\n",
       "      <td>1.0</td>\n",
       "      <td>1.0</td>\n",
       "    </tr>\n",
       "    <tr>\n",
       "      <th>1210</th>\n",
       "      <td>24</td>\n",
       "      <td>1.0</td>\n",
       "      <td>0.0</td>\n",
       "      <td>1.0</td>\n",
       "      <td>0.0</td>\n",
       "      <td>0.0</td>\n",
       "      <td>1.0</td>\n",
       "      <td>0.0</td>\n",
       "      <td>0.0</td>\n",
       "      <td>0.0</td>\n",
       "      <td>...</td>\n",
       "      <td>1.0</td>\n",
       "      <td>2.0</td>\n",
       "      <td>1.0</td>\n",
       "      <td>1.0</td>\n",
       "      <td>0.0</td>\n",
       "      <td>0.0</td>\n",
       "      <td>0.0</td>\n",
       "      <td>0.0</td>\n",
       "      <td>0.0</td>\n",
       "      <td>0.0</td>\n",
       "    </tr>\n",
       "    <tr>\n",
       "      <th>505</th>\n",
       "      <td>46</td>\n",
       "      <td>1.0</td>\n",
       "      <td>0.0</td>\n",
       "      <td>0.0</td>\n",
       "      <td>2.0</td>\n",
       "      <td>0.0</td>\n",
       "      <td>1.0</td>\n",
       "      <td>2.0</td>\n",
       "      <td>2.0</td>\n",
       "      <td>2.0</td>\n",
       "      <td>...</td>\n",
       "      <td>1.0</td>\n",
       "      <td>2.0</td>\n",
       "      <td>1.0</td>\n",
       "      <td>0.0</td>\n",
       "      <td>1.0</td>\n",
       "      <td>0.0</td>\n",
       "      <td>0.0</td>\n",
       "      <td>0.0</td>\n",
       "      <td>2.0</td>\n",
       "      <td>0.0</td>\n",
       "    </tr>\n",
       "  </tbody>\n",
       "</table>\n",
       "<p>5 rows × 21 columns</p>\n",
       "</div>"
      ],
      "text/plain": [
       "      Age  Gender  self_employed  family_history  work_interfere  remote_work  \\\n",
       "676    22     1.0            0.0             0.0             0.0          0.0   \n",
       "88     29     0.0            0.0             0.0             2.0          0.0   \n",
       "86     39     1.0            1.0             0.0             3.0          0.0   \n",
       "1210   24     1.0            0.0             1.0             0.0          0.0   \n",
       "505    46     1.0            0.0             0.0             2.0          0.0   \n",
       "\n",
       "      tech_company  benefits  care_options  wellness_program  ...  anonymity  \\\n",
       "676            1.0       0.0           0.0               0.0  ...        1.0   \n",
       "88             1.0       2.0           2.0               0.0  ...        1.0   \n",
       "86             1.0       0.0           0.0               0.0  ...        1.0   \n",
       "1210           1.0       0.0           0.0               0.0  ...        1.0   \n",
       "505            1.0       2.0           2.0               2.0  ...        1.0   \n",
       "\n",
       "      leave  mental_health_consequence  phys_health_consequence  coworkers  \\\n",
       "676     2.0                        1.0                      1.0        1.0   \n",
       "88      2.0                        1.0                      0.0        1.0   \n",
       "86      4.0                        1.0                      0.0        1.0   \n",
       "1210    2.0                        1.0                      1.0        0.0   \n",
       "505     2.0                        1.0                      0.0        1.0   \n",
       "\n",
       "      supervisor  mental_health_interview  phys_health_interview  \\\n",
       "676          2.0                      1.0                    1.0   \n",
       "88           1.0                      0.0                    1.0   \n",
       "86           0.0                      0.0                    1.0   \n",
       "1210         0.0                      0.0                    0.0   \n",
       "505          0.0                      0.0                    0.0   \n",
       "\n",
       "      mental_vs_physical  obs_consequence  \n",
       "676                  0.0              0.0  \n",
       "88                   1.0              1.0  \n",
       "86                   1.0              1.0  \n",
       "1210                 0.0              0.0  \n",
       "505                  2.0              0.0  \n",
       "\n",
       "[5 rows x 21 columns]"
      ]
     },
     "execution_count": 29,
     "metadata": {},
     "output_type": "execute_result"
    }
   ],
   "source": [
    "X_train.head()"
   ]
  },
  {
   "cell_type": "markdown",
   "id": "bd72a458",
   "metadata": {},
   "source": [
    "The below code helps in feature scaling which is a standard practise in machine learning. "
   ]
  },
  {
   "cell_type": "code",
   "execution_count": 30,
   "id": "16b1fd0d",
   "metadata": {},
   "outputs": [],
   "source": [
    "from sklearn.preprocessing import StandardScaler\n",
    "scaled_model = StandardScaler()\n",
    "X_train[ChoosenModelFeatures] = scaled_model.fit_transform(X_train)"
   ]
  },
  {
   "cell_type": "markdown",
   "id": "3e6cbc79",
   "metadata": {},
   "source": [
    "In the code below the LabelEncode is used to transform the variable in the y_train into numnerical values. This is done so that the target variables are numeric."
   ]
  },
  {
   "cell_type": "code",
   "execution_count": 31,
   "id": "8517f365",
   "metadata": {},
   "outputs": [],
   "source": [
    "from sklearn.preprocessing import LabelEncoder\n",
    "label_numeric_encode = LabelEncoder()\n",
    "y_train = label_numeric_encode.fit_transform(y_train)\n"
   ]
  },
  {
   "cell_type": "code",
   "execution_count": 32,
   "id": "c44ce358",
   "metadata": {},
   "outputs": [
    {
     "name": "stdout",
     "output_type": "stream",
     "text": [
      "Requirement already satisfied: xgboost in /opt/anaconda3/lib/python3.9/site-packages (1.7.5)\n",
      "Requirement already satisfied: scipy in /opt/anaconda3/lib/python3.9/site-packages (from xgboost) (1.7.3)\n",
      "Requirement already satisfied: numpy in /opt/anaconda3/lib/python3.9/site-packages (from xgboost) (1.21.5)\n",
      "Note: you may need to restart the kernel to use updated packages.\n"
     ]
    }
   ],
   "source": [
    "pip install xgboost"
   ]
  },
  {
   "cell_type": "markdown",
   "id": "3356af26",
   "metadata": {},
   "source": [
    "Below, I'll explain what an F1 score essentially implies. In order to assess the predictive performance a machine learning model can have, F1-score uses both precision and recall. The degree of false positives and false negatives is essentially measured by precision and recall, respectively. After reading up on fundamental machine learning models, it became clear that the f1-score has several benefits, which is why I've applied it here to test how it fares in a different models. It can also help us understand more if there is any underfitting or overfitting in our models. "
   ]
  },
  {
   "cell_type": "code",
   "execution_count": 33,
   "id": "f83c2870",
   "metadata": {},
   "outputs": [],
   "source": [
    "from sklearn.metrics import f1_score\n",
    "from sklearn.model_selection import cross_val_score"
   ]
  },
  {
   "cell_type": "markdown",
   "id": "2c50381b",
   "metadata": {},
   "source": [
    "This is the implementation for us to get the accuracy scores on our train and test set usinf F1 Score. \n",
    "\n",
    "Four parameters are passed to the function train evaluate:\n",
    "\n",
    "model: a scikit-learn example of a classification model\n",
    "X train: The training set's feature matrix\n",
    "y train: The training set's goal vector \n",
    "name: a string containing the model's name\n",
    "\n",
    "The fit method is first used by the function to fit the model on the training set. Once predictions have been made on the training set using the predict technique, they are compared to the actual target values using the scikit-learn f1_score metric. This result is stored in the variable f1_train.\n",
    "\n",
    "The cross val score function from Scikit-Learn is then used by the function to perform cross-validation. The final score is the average of all the scores after computing the f1_score for each fold of the cross-validation process. This result is stored in the variable f1_val.\n",
    "\n",
    "And then the results are returned. This implementation will be followed for all the machine learning models."
   ]
  },
  {
   "cell_type": "code",
   "execution_count": 34,
   "id": "b39d0cca",
   "metadata": {},
   "outputs": [],
   "source": [
    "def train_evaluate(model,X_train,y_train,name):\n",
    "    model.fit(X_train,y_train)\n",
    "    y_pred = model.predict(X_train)\n",
    "    f1_train = f1_score(y_train,y_pred)\n",
    "\n",
    "    #Cross validation\n",
    "    f1_val = cross_val_score(model,X_train,y_train,scoring='f1',cv=10)\n",
    "    \n",
    "    # returning the scores\n",
    "    score = pd.DataFrame({'Model_Name' : name ,'F1 Score for train set' : [f1_train], 'F1 score for validation set' : [f1_val.mean()]})\n",
    "    return score"
   ]
  },
  {
   "cell_type": "markdown",
   "id": "190ecc52",
   "metadata": {},
   "source": [
    "train_evaluate function helps us to build a logistic regression model. Because we have a small dataset we use these functionalities \"LogisticRegression(penalty='l1',solver='liblinear')\", this helps us to prevent overfitting. Overfitting is when the model learns all the unwanted noise and stuff which then can lead to low accuracy and a bad machine learning model. \n",
    "\n",
    "Model.fit(X_train,y_train) is used in the train evaluate() function to first train the model on the training set of data. Then, using model.predict(X_train), the predicted labels for the training data are obtained.\n",
    "\n",
    "The F1 score for the training data is then determined using the f1_score() method from sklearn.metrics. The variable f1 train holds the value of this score.\n",
    "\n",
    "Then, cross-validation is carried out on the training data using cross val score() from sklearn.model selection. The evaluation parameter is the F1 score, and cv=10 directs that 10-fold cross-validation be applied. The variable f1 val contains the mean F1 score over all 10 folds."
   ]
  },
  {
   "cell_type": "markdown",
   "id": "0e3b0763",
   "metadata": {},
   "source": [
    "## Logistic Regression"
   ]
  },
  {
   "cell_type": "code",
   "execution_count": 35,
   "id": "1296c4cb",
   "metadata": {},
   "outputs": [
    {
     "data": {
      "text/html": [
       "<div>\n",
       "<style scoped>\n",
       "    .dataframe tbody tr th:only-of-type {\n",
       "        vertical-align: middle;\n",
       "    }\n",
       "\n",
       "    .dataframe tbody tr th {\n",
       "        vertical-align: top;\n",
       "    }\n",
       "\n",
       "    .dataframe thead th {\n",
       "        text-align: right;\n",
       "    }\n",
       "</style>\n",
       "<table border=\"1\" class=\"dataframe\">\n",
       "  <thead>\n",
       "    <tr style=\"text-align: right;\">\n",
       "      <th></th>\n",
       "      <th>Model_Name</th>\n",
       "      <th>F1 Score for train set</th>\n",
       "      <th>F1 score for validation set</th>\n",
       "    </tr>\n",
       "  </thead>\n",
       "  <tbody>\n",
       "    <tr>\n",
       "      <th>0</th>\n",
       "      <td>Logistic Regression Model</td>\n",
       "      <td>0.826521</td>\n",
       "      <td>0.819706</td>\n",
       "    </tr>\n",
       "  </tbody>\n",
       "</table>\n",
       "</div>"
      ],
      "text/plain": [
       "                  Model_Name  F1 Score for train set  \\\n",
       "0  Logistic Regression Model                0.826521   \n",
       "\n",
       "   F1 score for validation set  \n",
       "0                     0.819706  "
      ]
     },
     "execution_count": 35,
     "metadata": {},
     "output_type": "execute_result"
    }
   ],
   "source": [
    "from sklearn.linear_model import LogisticRegression\n",
    "regression_model = LogisticRegression(penalty='l1',solver='liblinear')\n",
    "train_evaluate(regression_model,X_train,y_train,'Logistic Regression Model')"
   ]
  },
  {
   "cell_type": "markdown",
   "id": "aed50c30",
   "metadata": {},
   "source": [
    "## Decision Tree Classifier"
   ]
  },
  {
   "cell_type": "markdown",
   "id": "3c4763d1",
   "metadata": {},
   "source": [
    "Next the decision tree model is applied here:  max_leaf_nodes is chosen as 4 as the dataset is small so the decision tree needs to be simple. This will ensure that there is no overfitting or underfitting in the model."
   ]
  },
  {
   "cell_type": "code",
   "execution_count": 36,
   "id": "3f13051d",
   "metadata": {},
   "outputs": [
    {
     "data": {
      "text/html": [
       "<div>\n",
       "<style scoped>\n",
       "    .dataframe tbody tr th:only-of-type {\n",
       "        vertical-align: middle;\n",
       "    }\n",
       "\n",
       "    .dataframe tbody tr th {\n",
       "        vertical-align: top;\n",
       "    }\n",
       "\n",
       "    .dataframe thead th {\n",
       "        text-align: right;\n",
       "    }\n",
       "</style>\n",
       "<table border=\"1\" class=\"dataframe\">\n",
       "  <thead>\n",
       "    <tr style=\"text-align: right;\">\n",
       "      <th></th>\n",
       "      <th>Model_Name</th>\n",
       "      <th>F1 Score for train set</th>\n",
       "      <th>F1 score for validation set</th>\n",
       "    </tr>\n",
       "  </thead>\n",
       "  <tbody>\n",
       "    <tr>\n",
       "      <th>0</th>\n",
       "      <td>Decision Tree Classifier Model</td>\n",
       "      <td>0.851698</td>\n",
       "      <td>0.851769</td>\n",
       "    </tr>\n",
       "  </tbody>\n",
       "</table>\n",
       "</div>"
      ],
      "text/plain": [
       "                       Model_Name  F1 Score for train set  \\\n",
       "0  Decision Tree Classifier Model                0.851698   \n",
       "\n",
       "   F1 score for validation set  \n",
       "0                     0.851769  "
      ]
     },
     "execution_count": 36,
     "metadata": {},
     "output_type": "execute_result"
    }
   ],
   "source": [
    "from sklearn.tree import DecisionTreeClassifier\n",
    "decision_tree_model = DecisionTreeClassifier(max_leaf_nodes=4,random_state=42)\n",
    "train_evaluate(decision_tree_model,X_train,y_train,'Decision Tree Classifier Model')"
   ]
  },
  {
   "cell_type": "markdown",
   "id": "f43b3c42",
   "metadata": {},
   "source": [
    "## SVM"
   ]
  },
  {
   "cell_type": "code",
   "execution_count": 37,
   "id": "007e5f4a",
   "metadata": {},
   "outputs": [
    {
     "data": {
      "text/html": [
       "<div>\n",
       "<style scoped>\n",
       "    .dataframe tbody tr th:only-of-type {\n",
       "        vertical-align: middle;\n",
       "    }\n",
       "\n",
       "    .dataframe tbody tr th {\n",
       "        vertical-align: top;\n",
       "    }\n",
       "\n",
       "    .dataframe thead th {\n",
       "        text-align: right;\n",
       "    }\n",
       "</style>\n",
       "<table border=\"1\" class=\"dataframe\">\n",
       "  <thead>\n",
       "    <tr style=\"text-align: right;\">\n",
       "      <th></th>\n",
       "      <th>Model_Name</th>\n",
       "      <th>F1 Score for train set</th>\n",
       "      <th>F1 score for validation set</th>\n",
       "    </tr>\n",
       "  </thead>\n",
       "  <tbody>\n",
       "    <tr>\n",
       "      <th>0</th>\n",
       "      <td>Support Vector Model</td>\n",
       "      <td>0.890265</td>\n",
       "      <td>0.836086</td>\n",
       "    </tr>\n",
       "  </tbody>\n",
       "</table>\n",
       "</div>"
      ],
      "text/plain": [
       "             Model_Name  F1 Score for train set  F1 score for validation set\n",
       "0  Support Vector Model                0.890265                     0.836086"
      ]
     },
     "execution_count": 37,
     "metadata": {},
     "output_type": "execute_result"
    }
   ],
   "source": [
    "from sklearn.svm import SVC\n",
    "SVM_Model = SVC()\n",
    "train_evaluate(SVM_Model,X_train,y_train,'Support Vector Model')"
   ]
  },
  {
   "cell_type": "markdown",
   "id": "25768b0f",
   "metadata": {},
   "source": [
    "## Random Forest"
   ]
  },
  {
   "cell_type": "code",
   "execution_count": 38,
   "id": "a291092d",
   "metadata": {},
   "outputs": [
    {
     "data": {
      "text/html": [
       "<div>\n",
       "<style scoped>\n",
       "    .dataframe tbody tr th:only-of-type {\n",
       "        vertical-align: middle;\n",
       "    }\n",
       "\n",
       "    .dataframe tbody tr th {\n",
       "        vertical-align: top;\n",
       "    }\n",
       "\n",
       "    .dataframe thead th {\n",
       "        text-align: right;\n",
       "    }\n",
       "</style>\n",
       "<table border=\"1\" class=\"dataframe\">\n",
       "  <thead>\n",
       "    <tr style=\"text-align: right;\">\n",
       "      <th></th>\n",
       "      <th>Model_Name</th>\n",
       "      <th>F1 Score for train set</th>\n",
       "      <th>F1 score for validation set</th>\n",
       "    </tr>\n",
       "  </thead>\n",
       "  <tbody>\n",
       "    <tr>\n",
       "      <th>0</th>\n",
       "      <td>Random Forest Classifier Model</td>\n",
       "      <td>1.0</td>\n",
       "      <td>0.850044</td>\n",
       "    </tr>\n",
       "  </tbody>\n",
       "</table>\n",
       "</div>"
      ],
      "text/plain": [
       "                       Model_Name  F1 Score for train set  \\\n",
       "0  Random Forest Classifier Model                     1.0   \n",
       "\n",
       "   F1 score for validation set  \n",
       "0                     0.850044  "
      ]
     },
     "execution_count": 38,
     "metadata": {},
     "output_type": "execute_result"
    }
   ],
   "source": [
    "from sklearn.ensemble import RandomForestClassifier\n",
    "RandomForest_classifier_model = RandomForestClassifier(random_state=42)\n",
    "train_evaluate(RandomForest_classifier_model,X_train,y_train,'Random Forest Classifier Model')"
   ]
  },
  {
   "cell_type": "markdown",
   "id": "cc60c34e",
   "metadata": {},
   "source": [
    "## Gradient Boost"
   ]
  },
  {
   "cell_type": "markdown",
   "id": "255beca0",
   "metadata": {},
   "source": [
    "A strong ensemble model called the GradientBoostingClassifier combines weak classifiers into a strong one via boosting. While subsample regulates the percentage of samples to be utilised for fitting the various base learners, random state is employed to assure reproducibility of the findings. In this scenario, each base learner will receive 80% of the samples."
   ]
  },
  {
   "cell_type": "code",
   "execution_count": 39,
   "id": "3e2e69d2",
   "metadata": {},
   "outputs": [
    {
     "data": {
      "text/html": [
       "<div>\n",
       "<style scoped>\n",
       "    .dataframe tbody tr th:only-of-type {\n",
       "        vertical-align: middle;\n",
       "    }\n",
       "\n",
       "    .dataframe tbody tr th {\n",
       "        vertical-align: top;\n",
       "    }\n",
       "\n",
       "    .dataframe thead th {\n",
       "        text-align: right;\n",
       "    }\n",
       "</style>\n",
       "<table border=\"1\" class=\"dataframe\">\n",
       "  <thead>\n",
       "    <tr style=\"text-align: right;\">\n",
       "      <th></th>\n",
       "      <th>Model_Name</th>\n",
       "      <th>F1 Score for train set</th>\n",
       "      <th>F1 score for validation set</th>\n",
       "    </tr>\n",
       "  </thead>\n",
       "  <tbody>\n",
       "    <tr>\n",
       "      <th>0</th>\n",
       "      <td>Gradient Boosting Classifier Model</td>\n",
       "      <td>0.895629</td>\n",
       "      <td>0.843739</td>\n",
       "    </tr>\n",
       "  </tbody>\n",
       "</table>\n",
       "</div>"
      ],
      "text/plain": [
       "                           Model_Name  F1 Score for train set  \\\n",
       "0  Gradient Boosting Classifier Model                0.895629   \n",
       "\n",
       "   F1 score for validation set  \n",
       "0                     0.843739  "
      ]
     },
     "execution_count": 39,
     "metadata": {},
     "output_type": "execute_result"
    }
   ],
   "source": [
    "from sklearn.ensemble import GradientBoostingClassifier\n",
    "Gradient_boost_model = GradientBoostingClassifier(random_state=42,subsample=0.8)\n",
    "\n",
    "train_evaluate(Gradient_boost_model,X_train,y_train,\"Gradient Boosting Classifier Model\")"
   ]
  },
  {
   "cell_type": "markdown",
   "id": "31a2ae9e",
   "metadata": {},
   "source": [
    "## XG Boost"
   ]
  },
  {
   "cell_type": "code",
   "execution_count": 40,
   "id": "c86d3a63",
   "metadata": {},
   "outputs": [],
   "source": [
    "from xgboost import XGBClassifier\n",
    "XG_boost_model = XGBClassifier(verbosity=0)"
   ]
  },
  {
   "cell_type": "code",
   "execution_count": 41,
   "id": "4bdbf437",
   "metadata": {},
   "outputs": [
    {
     "data": {
      "text/html": [
       "<div>\n",
       "<style scoped>\n",
       "    .dataframe tbody tr th:only-of-type {\n",
       "        vertical-align: middle;\n",
       "    }\n",
       "\n",
       "    .dataframe tbody tr th {\n",
       "        vertical-align: top;\n",
       "    }\n",
       "\n",
       "    .dataframe thead th {\n",
       "        text-align: right;\n",
       "    }\n",
       "</style>\n",
       "<table border=\"1\" class=\"dataframe\">\n",
       "  <thead>\n",
       "    <tr style=\"text-align: right;\">\n",
       "      <th></th>\n",
       "      <th>Model_Name</th>\n",
       "      <th>F1 Score for train set</th>\n",
       "      <th>F1 score for validation set</th>\n",
       "    </tr>\n",
       "  </thead>\n",
       "  <tbody>\n",
       "    <tr>\n",
       "      <th>0</th>\n",
       "      <td>XG Boost Classifier Model</td>\n",
       "      <td>0.999075</td>\n",
       "      <td>0.813504</td>\n",
       "    </tr>\n",
       "  </tbody>\n",
       "</table>\n",
       "</div>"
      ],
      "text/plain": [
       "                  Model_Name  F1 Score for train set  \\\n",
       "0  XG Boost Classifier Model                0.999075   \n",
       "\n",
       "   F1 score for validation set  \n",
       "0                     0.813504  "
      ]
     },
     "execution_count": 41,
     "metadata": {},
     "output_type": "execute_result"
    }
   ],
   "source": [
    "train_evaluate(XG_boost_model,X_train,y_train,\"XG Boost Classifier Model\")"
   ]
  },
  {
   "cell_type": "markdown",
   "id": "581b7d23",
   "metadata": {},
   "source": [
    "## Performance of all Models"
   ]
  },
  {
   "cell_type": "code",
   "execution_count": 42,
   "id": "8187a93d",
   "metadata": {},
   "outputs": [
    {
     "data": {
      "text/html": [
       "<div>\n",
       "<style scoped>\n",
       "    .dataframe tbody tr th:only-of-type {\n",
       "        vertical-align: middle;\n",
       "    }\n",
       "\n",
       "    .dataframe tbody tr th {\n",
       "        vertical-align: top;\n",
       "    }\n",
       "\n",
       "    .dataframe thead th {\n",
       "        text-align: right;\n",
       "    }\n",
       "</style>\n",
       "<table border=\"1\" class=\"dataframe\">\n",
       "  <thead>\n",
       "    <tr style=\"text-align: right;\">\n",
       "      <th></th>\n",
       "      <th>Train_Score</th>\n",
       "      <th>Val_score</th>\n",
       "    </tr>\n",
       "  </thead>\n",
       "  <tbody>\n",
       "    <tr>\n",
       "      <th>Logistic regression</th>\n",
       "      <td>0.8265</td>\n",
       "      <td>0.8197</td>\n",
       "    </tr>\n",
       "    <tr>\n",
       "      <th>Decission Tree</th>\n",
       "      <td>0.8516</td>\n",
       "      <td>0.8517</td>\n",
       "    </tr>\n",
       "    <tr>\n",
       "      <th>SVM</th>\n",
       "      <td>0.8902</td>\n",
       "      <td>0.8360</td>\n",
       "    </tr>\n",
       "    <tr>\n",
       "      <th>Randome Forest</th>\n",
       "      <td>1.0000</td>\n",
       "      <td>0.8500</td>\n",
       "    </tr>\n",
       "    <tr>\n",
       "      <th>Gradient Boost</th>\n",
       "      <td>0.8956</td>\n",
       "      <td>0.8437</td>\n",
       "    </tr>\n",
       "    <tr>\n",
       "      <th>XGBoost</th>\n",
       "      <td>0.9990</td>\n",
       "      <td>0.8135</td>\n",
       "    </tr>\n",
       "  </tbody>\n",
       "</table>\n",
       "</div>"
      ],
      "text/plain": [
       "                     Train_Score  Val_score\n",
       "Logistic regression       0.8265     0.8197\n",
       "Decission Tree            0.8516     0.8517\n",
       "SVM                       0.8902     0.8360\n",
       "Randome Forest            1.0000     0.8500\n",
       "Gradient Boost            0.8956     0.8437\n",
       "XGBoost                   0.9990     0.8135"
      ]
     },
     "execution_count": 42,
     "metadata": {},
     "output_type": "execute_result"
    }
   ],
   "source": [
    "ModelScore = pd.DataFrame({'Train_Score' : [0.8265,0.8516,0.8902,1.0,0.8956,0.9990], 'Val_score' : [0.8197, 0.8517, 0.8360,0.8500,0.8437,0.8135]}, index = ['Logistic regression','Decission Tree','SVM','Randome Forest', 'Gradient Boost', 'XGBoost']) \n",
    "ModelScore\n",
    "                 "
   ]
  },
  {
   "cell_type": "markdown",
   "id": "002093a5",
   "metadata": {},
   "source": [
    "As we can see from above there seems to be overfitting in random forest classifier and XGBoosy, so in order to solve that GRIDSeachCV will be used on those two models to get better accuracy. \n",
    "\n",
    "To identify the ideal hyperparameters for the models, this code sets up a grid search. The hyperparameter values to be tested during the grid search are defined by the param_distribs dictionary. Different parameters are examined to understand which will be the best to use. \n"
   ]
  },
  {
   "cell_type": "code",
   "execution_count": 43,
   "id": "5dff3aaa",
   "metadata": {},
   "outputs": [],
   "source": [
    "from sklearn.model_selection import GridSearchCV\n"
   ]
  },
  {
   "cell_type": "markdown",
   "id": "53902465",
   "metadata": {},
   "source": [
    "This will tell us the best parameter for better model accuracy.\n",
    "\n",
    "This will give us new results after the model is run.\n",
    "\n",
    "From here on same thing is done for the XGBoost as well. "
   ]
  },
  {
   "cell_type": "code",
   "execution_count": 44,
   "id": "691157e8",
   "metadata": {},
   "outputs": [
    {
     "data": {
      "text/plain": [
       "GridSearchCV(cv=5, estimator=RandomForestClassifier(random_state=42),\n",
       "             param_grid=[{'max_depth': [1, 2, 3, 4],\n",
       "                          'max_features': [2, 4, 6, 8],\n",
       "                          'n_estimators': [3, 10, 30, 50, 100]}],\n",
       "             return_train_score=True, scoring='f1')"
      ]
     },
     "execution_count": 44,
     "metadata": {},
     "output_type": "execute_result"
    }
   ],
   "source": [
    "from sklearn.model_selection import GridSearchCV\n",
    "\n",
    "parameters_needed = [\n",
    "    {'n_estimators':[3,10,30,50,100],'max_features':[2,4,6,8],'max_depth' : [1,2,3,4]}\n",
    "]\n",
    "\n",
    "\n",
    "\n",
    "RandomForest_classifier_model = RandomForestClassifier(random_state=42)\n",
    "model_tuning = GridSearchCV(RandomForest_classifier_model, parameters_needed, cv=5,\n",
    "                           scoring='f1',\n",
    "                           return_train_score=True)\n",
    "model_tuning.fit(X_train, y_train)\n"
   ]
  },
  {
   "cell_type": "code",
   "execution_count": 45,
   "id": "1262292c",
   "metadata": {},
   "outputs": [
    {
     "data": {
      "text/plain": [
       "RandomForestClassifier(max_depth=4, max_features=4, n_estimators=50,\n",
       "                       random_state=42)"
      ]
     },
     "execution_count": 45,
     "metadata": {},
     "output_type": "execute_result"
    }
   ],
   "source": [
    "model_tuning.best_estimator_"
   ]
  },
  {
   "cell_type": "code",
   "execution_count": 46,
   "id": "03ad8165",
   "metadata": {},
   "outputs": [
    {
     "data": {
      "text/html": [
       "<div>\n",
       "<style scoped>\n",
       "    .dataframe tbody tr th:only-of-type {\n",
       "        vertical-align: middle;\n",
       "    }\n",
       "\n",
       "    .dataframe tbody tr th {\n",
       "        vertical-align: top;\n",
       "    }\n",
       "\n",
       "    .dataframe thead th {\n",
       "        text-align: right;\n",
       "    }\n",
       "</style>\n",
       "<table border=\"1\" class=\"dataframe\">\n",
       "  <thead>\n",
       "    <tr style=\"text-align: right;\">\n",
       "      <th></th>\n",
       "      <th>Model_Name</th>\n",
       "      <th>F1 Score for train set</th>\n",
       "      <th>F1 score for validation set</th>\n",
       "    </tr>\n",
       "  </thead>\n",
       "  <tbody>\n",
       "    <tr>\n",
       "      <th>0</th>\n",
       "      <td>RandomForest Tuned</td>\n",
       "      <td>0.866209</td>\n",
       "      <td>0.852866</td>\n",
       "    </tr>\n",
       "  </tbody>\n",
       "</table>\n",
       "</div>"
      ],
      "text/plain": [
       "           Model_Name  F1 Score for train set  F1 score for validation set\n",
       "0  RandomForest Tuned                0.866209                     0.852866"
      ]
     },
     "execution_count": 46,
     "metadata": {},
     "output_type": "execute_result"
    }
   ],
   "source": [
    "train_evaluate(model_tuning.best_estimator_,X_train,y_train,\"RandomForest Tuned\")"
   ]
  },
  {
   "cell_type": "code",
   "execution_count": 47,
   "id": "0e97c365",
   "metadata": {},
   "outputs": [
    {
     "data": {
      "text/plain": [
       "GridSearchCV(cv=5,\n",
       "             estimator=XGBClassifier(base_score=None, booster=None,\n",
       "                                     callbacks=None, colsample_bylevel=None,\n",
       "                                     colsample_bynode=None,\n",
       "                                     colsample_bytree=None,\n",
       "                                     early_stopping_rounds=None,\n",
       "                                     enable_categorical=False, eval_metric=None,\n",
       "                                     feature_types=None, gamma=None,\n",
       "                                     gpu_id=None, grow_policy=None,\n",
       "                                     importance_type=None,\n",
       "                                     interaction_constraints=None,\n",
       "                                     learning_rate=None,...\n",
       "                                     max_leaves=None, min_child_weight=None,\n",
       "                                     missing=nan, monotone_constraints=None,\n",
       "                                     n_estimators=100, n_jobs=None,\n",
       "                                     num_parallel_tree=None, predictor=None,\n",
       "                                     random_state=None, ...),\n",
       "             param_grid=[{'booster': ['gblinear', 'gbtree'],\n",
       "                          'eta': [0.01, 0.025, 0.05, 0.1],\n",
       "                          'max_depth': [1, 2, 3, 4],\n",
       "                          'max_features': [2, 4, 6, 8],\n",
       "                          'n_estimators': [3, 10, 30, 50, 100],\n",
       "                          'subsample': [0.5, 0.75]}],\n",
       "             return_train_score=True, scoring='f1')"
      ]
     },
     "execution_count": 47,
     "metadata": {},
     "output_type": "execute_result"
    }
   ],
   "source": [
    "parameters_needed = [\n",
    "    {'n_estimators':[3,10,30,50,100],\n",
    "    'eta' : [0.01,0.025, 0.05, 0.1],\n",
    "    'max_features':[2,4,6,8],\n",
    "    'max_depth' : [1,2,3,4],\n",
    "    'subsample': [0.5,0.75],\n",
    "    'booster':['gblinear','gbtree']}\n",
    "]\n",
    "\n",
    "XG_boost_model = XGBClassifier(verbosity = 0)\n",
    "model_tuning = GridSearchCV(XG_boost_model, parameters_needed, cv=5,\n",
    "                           scoring='f1',\n",
    "                           return_train_score=True)\n",
    "model_tuning.fit(X_train, y_train)"
   ]
  },
  {
   "cell_type": "code",
   "execution_count": 48,
   "id": "04a09e79",
   "metadata": {},
   "outputs": [
    {
     "data": {
      "text/plain": [
       "XGBClassifier(base_score=None, booster='gbtree', callbacks=None,\n",
       "              colsample_bylevel=None, colsample_bynode=None,\n",
       "              colsample_bytree=None, early_stopping_rounds=None,\n",
       "              enable_categorical=False, eta=0.01, eval_metric=None,\n",
       "              feature_types=None, gamma=None, gpu_id=None, grow_policy=None,\n",
       "              importance_type=None, interaction_constraints=None,\n",
       "              learning_rate=None, max_bin=None, max_cat_threshold=None,\n",
       "              max_cat_to_onehot=None, max_delta_step=None, max_depth=4,\n",
       "              max_features=2, max_leaves=None, min_child_weight=None,\n",
       "              missing=nan, monotone_constraints=None, n_estimators=100,\n",
       "              n_jobs=None, num_parallel_tree=None, ...)"
      ]
     },
     "execution_count": 48,
     "metadata": {},
     "output_type": "execute_result"
    }
   ],
   "source": [
    "model_tuning.best_estimator_"
   ]
  },
  {
   "cell_type": "code",
   "execution_count": 49,
   "id": "dc627ff7",
   "metadata": {},
   "outputs": [
    {
     "data": {
      "text/html": [
       "<div>\n",
       "<style scoped>\n",
       "    .dataframe tbody tr th:only-of-type {\n",
       "        vertical-align: middle;\n",
       "    }\n",
       "\n",
       "    .dataframe tbody tr th {\n",
       "        vertical-align: top;\n",
       "    }\n",
       "\n",
       "    .dataframe thead th {\n",
       "        text-align: right;\n",
       "    }\n",
       "</style>\n",
       "<table border=\"1\" class=\"dataframe\">\n",
       "  <thead>\n",
       "    <tr style=\"text-align: right;\">\n",
       "      <th></th>\n",
       "      <th>Model_Name</th>\n",
       "      <th>F1 Score for train set</th>\n",
       "      <th>F1 score for validation set</th>\n",
       "    </tr>\n",
       "  </thead>\n",
       "  <tbody>\n",
       "    <tr>\n",
       "      <th>0</th>\n",
       "      <td>XGBoost Finetuned</td>\n",
       "      <td>0.860781</td>\n",
       "      <td>0.856181</td>\n",
       "    </tr>\n",
       "  </tbody>\n",
       "</table>\n",
       "</div>"
      ],
      "text/plain": [
       "          Model_Name  F1 Score for train set  F1 score for validation set\n",
       "0  XGBoost Finetuned                0.860781                     0.856181"
      ]
     },
     "execution_count": 49,
     "metadata": {},
     "output_type": "execute_result"
    }
   ],
   "source": [
    "train_evaluate(model_tuning.best_estimator_,X_train,y_train,\"XGBoost Finetuned\")"
   ]
  },
  {
   "cell_type": "code",
   "execution_count": 50,
   "id": "e6f48f31",
   "metadata": {},
   "outputs": [
    {
     "data": {
      "text/html": [
       "<div>\n",
       "<style scoped>\n",
       "    .dataframe tbody tr th:only-of-type {\n",
       "        vertical-align: middle;\n",
       "    }\n",
       "\n",
       "    .dataframe tbody tr th {\n",
       "        vertical-align: top;\n",
       "    }\n",
       "\n",
       "    .dataframe thead th {\n",
       "        text-align: right;\n",
       "    }\n",
       "</style>\n",
       "<table border=\"1\" class=\"dataframe\">\n",
       "  <thead>\n",
       "    <tr style=\"text-align: right;\">\n",
       "      <th></th>\n",
       "      <th>Train_score</th>\n",
       "      <th>Val_score</th>\n",
       "    </tr>\n",
       "  </thead>\n",
       "  <tbody>\n",
       "    <tr>\n",
       "      <th>RandomForest</th>\n",
       "      <td>0.8662</td>\n",
       "      <td>0.8528</td>\n",
       "    </tr>\n",
       "    <tr>\n",
       "      <th>XGBoost</th>\n",
       "      <td>0.8601</td>\n",
       "      <td>0.8563</td>\n",
       "    </tr>\n",
       "  </tbody>\n",
       "</table>\n",
       "</div>"
      ],
      "text/plain": [
       "              Train_score  Val_score\n",
       "RandomForest       0.8662     0.8528\n",
       "XGBoost            0.8601     0.8563"
      ]
     },
     "execution_count": 50,
     "metadata": {},
     "output_type": "execute_result"
    }
   ],
   "source": [
    "Tuning_scores = pd.DataFrame({'Train_score' : [0.8662,0.8601],'Val_score' : [0.8528,0.8563]} \n",
    "                        ,index=['RandomForest','XGBoost'])\n",
    "Tuning_scores"
   ]
  },
  {
   "cell_type": "code",
   "execution_count": null,
   "id": "cea14fa7",
   "metadata": {},
   "outputs": [],
   "source": []
  }
 ],
 "metadata": {
  "kernelspec": {
   "display_name": "Python 3 (ipykernel)",
   "language": "python",
   "name": "python3"
  },
  "language_info": {
   "codemirror_mode": {
    "name": "ipython",
    "version": 3
   },
   "file_extension": ".py",
   "mimetype": "text/x-python",
   "name": "python",
   "nbconvert_exporter": "python",
   "pygments_lexer": "ipython3",
   "version": "3.9.12"
  }
 },
 "nbformat": 4,
 "nbformat_minor": 5
}
